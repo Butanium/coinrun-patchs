{
  "cells": [
    {
      "cell_type": "markdown",
      "metadata": {
        "id": "view-in-github",
        "colab_type": "text"
      },
      "source": [
        "<a href=\"https://colab.research.google.com/github/Butanium/coinrun-patchs/blob/main/coinrun_interp.ipynb\" target=\"_parent\"><img src=\"https://colab.research.google.com/assets/colab-badge.svg\" alt=\"Open In Colab\"/></a>"
      ]
    },
    {
      "cell_type": "markdown",
      "metadata": {
        "id": "Mu2ierH4knuR"
      },
      "source": [
        "# Setting up the environment (run once)\n",
        "You just have to run this when you connect to a new environment"
      ]
    },
    {
      "cell_type": "code",
      "execution_count": 2,
      "metadata": {
        "id": "5MBy307qnr7e"
      },
      "outputs": [],
      "source": [
        "# Installing package to run coinrun (fix segfaults https://github.com/googlecolab/colabtools/issues/106)\n",
        "import os\n",
        "if 'LD_PRELOAD' in os.environ.keys():\n",
        "  del os.environ['LD_PRELOAD']"
      ]
    },
    {
      "cell_type": "code",
      "execution_count": 3,
      "metadata": {
        "id": "HBQB41-XRpVB"
      },
      "outputs": [],
      "source": [
        "%%capture\n",
        "!apt-get remove libtcmalloc*\n",
        "!apt-get update\n",
        "!apt-get install mpich build-essential qt5-default pkg-config"
      ]
    },
    {
      "cell_type": "code",
      "execution_count": 4,
      "metadata": {
        "id": "UZg8MpgzNRkh"
      },
      "outputs": [],
      "source": [
        "# Download modified coinrun and model \n",
        "%%capture\n",
        "!git clone --recursive https://github.com/jbkjr/objective-robustness-failures\n",
        "%cd objective-robustness-failures/train-procgen-pytorch/ \n",
        "!mkdir model_data\n",
        "!wget https://github.com/Butanium/coinrun-patchs/blob/main/data/coinrun.pth?raw=true -O model_data/coinrun.pth"
      ]
    },
    {
      "cell_type": "code",
      "execution_count": 5,
      "metadata": {
        "id": "bwRhAzGza8eF"
      },
      "outputs": [],
      "source": [
        "%%capture\n",
        "%pip install ipyplot pillow \n",
        "\n",
        "!pip install gym3\n",
        "%cd ../procgenAISC\n",
        "!python setup.py install\n",
        "%cd procgen\n",
        "import os, sys\n",
        "sys.path.append(os.getcwd())\n",
        "%cd ../../train-procgen-pytorch"
      ]
    },
    {
      "cell_type": "markdown",
      "metadata": {
        "id": "OkbHXJekkuRc"
      },
      "source": [
        "# ⚠️ Restart the environment (CTRL + M .) in order to have your path updated\n",
        "After that you can run the rest of the code"
      ]
    },
    {
      "cell_type": "code",
      "execution_count": 1,
      "metadata": {
        "colab": {
          "base_uri": "https://localhost:8080/"
        },
        "id": "dyE5wd4wd7Nn",
        "outputId": "d40f0fbd-0f89-4fd0-ab9f-9dba7ab65dc5"
      },
      "outputs": [
        {
          "output_type": "stream",
          "name": "stdout",
          "text": [
            "/content/objective-robustness-failures/train-procgen-pytorch\n"
          ]
        }
      ],
      "source": [
        "%cd objective-robustness-failures/train-procgen-pytorch/"
      ]
    },
    {
      "cell_type": "markdown",
      "metadata": {
        "id": "C4D2bnDGlNP9"
      },
      "source": [
        "# Sanity check\n",
        "You should be able to import the procgen module"
      ]
    },
    {
      "cell_type": "code",
      "execution_count": 14,
      "metadata": {
        "id": "WVh6U0Zjc18d"
      },
      "outputs": [],
      "source": [
        "import procgen"
      ]
    },
    {
      "cell_type": "markdown",
      "metadata": {
        "id": "9F6ZUBqulW82"
      },
      "source": [
        "# CoinRun environment code and utils"
      ]
    },
    {
      "cell_type": "markdown",
      "source": [
        "## Imports"
      ],
      "metadata": {
        "id": "m9h3p95Tzk7g"
      }
    },
    {
      "cell_type": "code",
      "source": [
        "from common.env.procgen_wrappers import *\n",
        "from common.logger import Logger\n",
        "from common.storage import Storage\n",
        "from common.model import NatureModel, ImpalaModel\n",
        "from common.policy import CategoricalPolicy\n",
        "from common import set_global_seeds, set_global_log_levels\n",
        "\n",
        "import os, time, yaml, argparse\n",
        "import gym\n",
        "from procgen import ProcgenEnv\n",
        "import random\n",
        "import torch\n",
        "import json\n",
        "import numpy as np"
      ],
      "metadata": {
        "id": "oPqc5VaqyUGH"
      },
      "execution_count": 3,
      "outputs": []
    },
    {
      "cell_type": "markdown",
      "source": [
        "## Load agent\n",
        "Legacy from Lauro's code\n"
      ],
      "metadata": {
        "id": "a8gUcdB0zupm"
      }
    },
    {
      "cell_type": "code",
      "source": [
        "def load_env_and_agent(exp_name,\n",
        "                       num_envs,\n",
        "                       model_file,\n",
        "                       start_level,\n",
        "                       num_levels,\n",
        "                       distribution_mode=\"hard\",\n",
        "                       param_name=\"hard\",\n",
        "                       device=\"cpu\",\n",
        "                       gpu_device=0,\n",
        "                       random_percent=0,\n",
        "                       logdir=None,\n",
        "                       num_threads=10):\n",
        "\n",
        "    env_name = \"coinrun\"\n",
        "\n",
        "    ####################\n",
        "    ## HYPERPARAMETERS #\n",
        "    ####################\n",
        "    with open('hyperparams/procgen/config.yml', 'r') as f:\n",
        "        hyperparameters = yaml.safe_load(f)[param_name]\n",
        "\n",
        "    ############\n",
        "    ## DEVICE ##\n",
        "    ############\n",
        "    if device == 'gpu':\n",
        "        os.environ[\"CUDA_VISIBLE_DEVICES\"] = str(gpu_device)\n",
        "        device = torch.device('cuda')\n",
        "    else:\n",
        "        device = torch.device('cpu')\n",
        "\n",
        "    #################\n",
        "    ## ENVIRONMENT ##\n",
        "    #################\n",
        "    def create_venv(hyperparameters):\n",
        "        venv = ProcgenEnv(num_envs=num_envs,\n",
        "                        env_name=env_name,\n",
        "                        num_levels=num_levels,\n",
        "                        start_level=int(start_level),\n",
        "                        distribution_mode=distribution_mode,\n",
        "                        num_threads=num_threads,\n",
        "                        random_percent=random_percent)\n",
        "        venv = VecExtractDictObs(venv, \"rgb\")\n",
        "        normalize_rew = hyperparameters.get('normalize_rew', True)\n",
        "        if normalize_rew:\n",
        "            venv = VecNormalize(venv, ob=False) # normalizing returns, but not\n",
        "            #the img frames\n",
        "        venv = TransposeFrame(venv)\n",
        "        venv = ScaledFloatFrame(venv)\n",
        "        return venv\n",
        "    n_steps = hyperparameters.get('n_steps', 256)\n",
        "\n",
        "    env = create_venv(hyperparameters)\n",
        "\n",
        "    ############\n",
        "    ## LOGGER ##\n",
        "    ############\n",
        "    logger = Logger(num_envs, \"./logs\")\n",
        "\n",
        "    ###########\n",
        "    ## MODEL ##\n",
        "    ###########\n",
        "    observation_space = env.observation_space\n",
        "    observation_shape = observation_space.shape\n",
        "    architecture = hyperparameters.get('architecture', 'impala')\n",
        "    in_channels = observation_shape[0]\n",
        "    action_space = env.action_space\n",
        "\n",
        "    # Model architecture\n",
        "    if architecture == 'nature':\n",
        "        model = NatureModel(in_channels=in_channels)\n",
        "    elif architecture == 'impala':\n",
        "        model = ImpalaModel(in_channels=in_channels)\n",
        "\n",
        "    # Discrete action space\n",
        "    recurrent = hyperparameters.get('recurrent', False)\n",
        "    if isinstance(action_space, gym.spaces.Discrete):\n",
        "        action_size = action_space.n\n",
        "        policy = CategoricalPolicy(model, recurrent, action_size)\n",
        "    else:\n",
        "        raise NotImplementedError\n",
        "    policy.to(device)\n",
        "\n",
        "    #############\n",
        "    ## STORAGE ##\n",
        "    #############\n",
        "    hidden_state_dim = model.output_dim\n",
        "    storage = Storage(observation_shape, hidden_state_dim, n_steps, num_envs, device)\n",
        "\n",
        "    ###########\n",
        "    ## AGENT ##\n",
        "    ###########\n",
        "    algo = hyperparameters.get('algo', 'ppo')\n",
        "    if algo == 'ppo':\n",
        "        from agents.ppo import PPO as AGENT\n",
        "    else:\n",
        "        raise NotImplementedError\n",
        "    agent = AGENT(env, policy, logger, storage, device, 0, **hyperparameters)\n",
        "\n",
        "    agent.policy.load_state_dict(torch.load(model_file, map_location=device)[\"model_state_dict\"])\n",
        "    agent.n_envs = num_envs\n",
        "    return agent"
      ],
      "metadata": {
        "id": "89JEjUyIyR1v"
      },
      "execution_count": 4,
      "outputs": []
    },
    {
      "cell_type": "code",
      "source": [
        "def load_episode(exp_name, level_seed, model_file, **kwargs):\n",
        "    \"\"\"Load a single coinrun level with fixed seed. Same level layout after reset\n",
        "    logdir is just for agent logs.\"\"\"\n",
        "    return load_env_and_agent(\n",
        "        exp_name=exp_name,\n",
        "        num_envs=1,\n",
        "        model_file=model_file,\n",
        "        num_levels=1,\n",
        "        start_level=level_seed,\n",
        "        num_threads=1, **kwargs\n",
        "       )"
      ],
      "metadata": {
        "id": "JMEM5xAC0vKJ"
      },
      "execution_count": 5,
      "outputs": []
    },
    {
      "cell_type": "markdown",
      "source": [
        "## Hook abstract class"
      ],
      "metadata": {
        "id": "LLRUM_3Xq8hg"
      }
    },
    {
      "cell_type": "code",
      "source": [
        "from abc import ABC, abstractmethod\n",
        "\n",
        "class Hook(ABC):\n",
        "  @abstractmethod\n",
        "  def __call__(self, obs: np.ndarray, agent)-> np.ndarray:\n",
        "    return obs"
      ],
      "metadata": {
        "id": "YhUyLRdrq7O5"
      },
      "execution_count": 6,
      "outputs": []
    },
    {
      "cell_type": "markdown",
      "source": [
        "## CoinRun code\n",
        "Legacy from Lauro's code\n"
      ],
      "metadata": {
        "id": "gOg7wh-yz0X3"
      }
    },
    {
      "cell_type": "code",
      "source": [
        "def run_env(\n",
        "    exp_name,\n",
        "    model_file,\n",
        "    level_seed,\n",
        "    hook : Hook = None,\n",
        "    logfile=None,\n",
        "    reset_mode=\"off\", \n",
        "    max_num_timesteps=10_000,\n",
        "    save_value=False,\n",
        "    **kwargs):\n",
        "    \"\"\"\n",
        "    Runs one coinrun level.\n",
        "    Reset modes:\n",
        "        - inv_coin returns when agent gets the inv coin OR finishes the level\n",
        "        - complete returns when the agent finishes the level\n",
        "        - off resets only when max_num_timesteps is reached (repeating always the same level)\n",
        "    \n",
        "    returns level metrics. If logfile (csv) is supplied, metrics are also\n",
        "    appended there.\n",
        "    \"\"\"\n",
        "    if save_value:\n",
        "        raise NotImplementedError\n",
        "    append_to_csv = False\n",
        "    if logfile is not None:\n",
        "        append_to_csv = True\n",
        "\n",
        "    agent = load_episode(exp_name, level_seed, model_file, **kwargs)\n",
        "    \n",
        "    obs = agent.env.reset()\n",
        "    hidden_state = np.zeros((agent.n_envs, agent.storage.hidden_state_size))\n",
        "    done = np.zeros(agent.n_envs)\n",
        "\n",
        "\n",
        "    def log_to_csv(metrics):\n",
        "        \"\"\"write metrics to csv\"\"\"\n",
        "        if not metrics:\n",
        "            return\n",
        "        column_names = [\"seed\", \"steps\", \"rand_coin\", \"coin_collected\", \"inv_coin_collected\", \"died\", \"timed_out\"]\n",
        "        metrics = [int(m) for m in metrics]\n",
        "        if append_to_csv:\n",
        "            with open(logfile, \"a\") as f:\n",
        "                w = csv.writer(f)\n",
        "                if f.tell() == 0: # write header first\n",
        "                    w.writerow(column_names)\n",
        "                w.writerow(metrics)\n",
        "\n",
        "\n",
        "    def log_metrics(done: bool, info: dict):\n",
        "        \"\"\"\n",
        "        When run complete, log metrics in the \n",
        "        following format:\n",
        "        seed, steps, randomize_goal, collected_coin, collected_inv_coin, died, timed_out\n",
        "        \"\"\"\n",
        "        metrics = None\n",
        "        if done:\n",
        "            keys = [\"prev_level_seed\", \"prev_level/total_steps\", \"prev_level/randomize_goal\", \"prev_level_complete\", \"prev_level/invisible_coin_collected\"]\n",
        "            # Fix unbound key error TODO: why is /total_steps not set ?\n",
        "            keys = [k for k in keys if k in info.keys()]\n",
        "            metrics = [info[key] for key in keys]\n",
        "            if info[\"prev_level_complete\"]:\n",
        "                metrics.extend([False, False])\n",
        "            else:\n",
        "                timed_out = info[\"prev_level/total_steps\"] > 999\n",
        "                metrics.extend([not timed_out, timed_out])\n",
        "        elif info[\"invisible_coin_collected\"]:\n",
        "            keys = [\"level_seed\", \"total_steps\", \"randomize_goal\"]\n",
        "            metrics = [info[key] for key in keys]\n",
        "            metrics.extend([-1, True, -1, -1])\n",
        "        else:\n",
        "            raise\n",
        "        if append_to_csv:\n",
        "          log_to_csv(metrics)\n",
        "        return metrics\n",
        "\n",
        "\n",
        "    def check_if_break(done: bool, info: dict):\n",
        "        if reset_mode == \"inv_coin\":\n",
        "            return done or info[\"invisible_coin_collected\"]\n",
        "        elif reset_mode == \"complete\":\n",
        "            return done\n",
        "        elif reset_mode == \"off\":\n",
        "            return False\n",
        "        else:\n",
        "            raise ValueError(\"Reset mode must be one of inv_coin, complete, off.\"\n",
        "                             f\"Instead got {reset_mode}\")\n",
        "\n",
        "    step = 0\n",
        "    if hook is None:\n",
        "      hook = lambda obs, *args : obs\n",
        "    while step < max_num_timesteps:\n",
        "        agent.policy.eval()\n",
        "        for _ in range(agent.n_steps):  # = 256\n",
        "            step += 1\n",
        "            act, log_prob_act, value, next_hidden_state = agent.predict(obs, hidden_state, done)\n",
        "            next_obs, rew, done, info = agent.env.step(act)\n",
        "\n",
        "            agent.storage.store(obs, hidden_state, act, rew, done, info, log_prob_act, value)\n",
        "            hooked_obs = hook(next_obs, agent)\n",
        "            if hooked_obs.shape != obs.shape:\n",
        "              raise ValueError(\"your hook changes the obs shape\")\n",
        "            obs : np.ndarray = hooked_obs\n",
        "            hidden_state = next_hidden_state\n",
        "\n",
        "            if check_if_break(done[0], info[0]):\n",
        "                log_metrics(done[0], info[0])\n",
        "                return\n",
        "    return\n"
      ],
      "metadata": {
        "id": "HTWVmC2ZzZXH"
      },
      "execution_count": 26,
      "outputs": []
    },
    {
      "cell_type": "markdown",
      "source": [
        "## Utils"
      ],
      "metadata": {
        "id": "FEI-mfNgKUSO"
      }
    },
    {
      "cell_type": "code",
      "source": [
        "import matplotlib.pyplot as plt\n",
        "import ipyplot\n",
        "from PIL import Image\n",
        "# Activate widgets in google colab\n",
        "import ipywidgets as widgets\n",
        "import IPython.display as display\n",
        "from google.colab import output\n",
        "output.enable_custom_widget_manager()"
      ],
      "metadata": {
        "id": "Vrx5gcMfKYAh",
        "colab": {
          "base_uri": "https://localhost:8080/"
        },
        "outputId": "e0915f4b-7500-4921-c9c2-de6b4203ca60"
      },
      "execution_count": 8,
      "outputs": [
        {
          "output_type": "stream",
          "name": "stdout",
          "text": [
            "\n",
            "        WARNING! Google Colab Environment detected!\n",
            "        You might encounter issues while running in Google Colab environment.\n",
            "        If images are not displaying properly please try setting `force_b64` param to `True`.\n",
            "        \n"
          ]
        }
      ]
    },
    {
      "cell_type": "code",
      "source": [
        "def plot_images(img_arrays, max_images=20, img_width=150):\n",
        "  ipyplot.plot_images(img_arrays, max_images=max_images, img_width=img_width)\n",
        "\n",
        "def obs_to_img(obs):\n",
        "  return np.uint8(np.einsum('cwh -> whc', obs)* 255)\n",
        "def plot_img(img, size=(250,250)):\n",
        "  display.display(Image.fromarray(img).resize(size))\n",
        "def slider_of_imgs(imgs):\n",
        "  min_val = 0\n",
        "  max_val = len(imgs) - 1\n",
        "\n",
        "  # Create a slider widget\n",
        "  slider = widgets.IntSlider(min=min_val, max=max_val, continuous_update=True)\n",
        "\n",
        "  # Define a function to display the current image based on the slider value\n",
        "  def on_value_change(change):\n",
        "      index = change['new']\n",
        "      img_array = imgs[index]\n",
        "      # Create a PIL image from the numpy array\n",
        "      img = Image.fromarray(np.uint8(img_array)).resize((250,250))\n",
        "      # Display the image\n",
        "      display.clear_output(wait=True)\n",
        "      display.display(img)\n",
        "      display.display(slider)\n",
        "\n",
        "  # Call the on_value_change function when the slider value changes\n",
        "  slider.observe(on_value_change, names='value')\n",
        "\n",
        "  # Display the initial image\n",
        "  display.display(Image.fromarray(np.uint8(imgs[0])).resize((250,250)))\n",
        "\n",
        "  # Display the slider widget\n",
        "  display.display(slider)\n"
      ],
      "metadata": {
        "id": "UeP_bHFiKaWR"
      },
      "execution_count": 87,
      "outputs": []
    },
    {
      "cell_type": "markdown",
      "source": [
        "# Image patching"
      ],
      "metadata": {
        "id": "GqIUwuCWrcRY"
      }
    },
    {
      "cell_type": "code",
      "source": [
        "def patch_img(img, pos, patch):\n",
        "  # Check if the position is valid\n",
        "  if pos[0] < 0 or pos[0] >= img.shape[0] or pos[1] < 0 or pos[1] >= img.shape[1]:\n",
        "    raise ValueError(\"invalid position\")\n",
        "  # Check if the patch is valid\n",
        "  if pos[0] + patch.shape[0] > img.shape[0] or pos[1] + patch.shape[1] > img.shape[1]:\n",
        "    raise ValueError(\"invalid position / dim\")\n",
        "  img[:, pos[0]:pos[0] + patch.shape[0], pos[1]:pos[1] + patch.shape[1]] = patch\n",
        "  return img\n",
        "\n",
        "def get_all_patched(img, pos, patchs):\n",
        "  return list(map(lambda p : patch_img(img, pos, p), patchs))\n",
        "\n",
        "def get_patch(img, pos, dim):\n",
        "  x,y = pos[0], pos[1]\n",
        "  return img[:, x:x + dim[0], y:y + dim[1]]\n",
        "\n",
        "\n",
        "class Patcher:\n",
        "  def __init__(self, dataset):\n",
        "    self.dataset = dataset\n",
        "  \n",
        "  def create_patchs(self, dim, patch_per_image, dataset_stride=1):\n",
        "    \"\"\"\n",
        "    Create patchs from a dataset\n",
        "    :param dim: dimension of the patch\n",
        "    :param patch_per_image: the amount of patch per image\n",
        "    :param dataset_stride: dataset // dataset_stride images will be used\n",
        "    :return: a list of patchs\n",
        "    \"\"\"\n",
        "    patchs = []\n",
        "    d_size = len(self.dataset)\n",
        "    start = random.randint(0, min(d_size, dataset_stride) - 1)\n",
        "    for i in range(start, d_size, dataset_stride):\n",
        "      img = self.dataset[i]\n",
        "      if patch_per_image is None:\n",
        "        for x in range(0, img.shape[0] - dim[0], dim[0]):\n",
        "          for y in range(0, img.shape[1] - dim[1], dim[1]):\n",
        "            patchs.append(img[:, x:x + dim[0], y:y + dim[1]])\n",
        "      else:\n",
        "        for _ in range(patch_per_image):\n",
        "          x = random.randint(0, img.shape[1] - dim[0])\n",
        "          y = random.randint(0, img.shape[2] - dim[1])\n",
        "          patchs.append(img[:, x:x + dim[0], y:y + dim[1]])\n",
        "    return patchs"
      ],
      "metadata": {
        "id": "p3-Lf_trrgfx"
      },
      "execution_count": 80,
      "outputs": []
    },
    {
      "cell_type": "markdown",
      "source": [
        "# Experiments"
      ],
      "metadata": {
        "id": "DYEZ3vLG2VH0"
      }
    },
    {
      "cell_type": "markdown",
      "source": [
        "## Collect data with a hook"
      ],
      "metadata": {
        "id": "vCLOcHXHaaJl"
      }
    },
    {
      "cell_type": "code",
      "source": [
        "class ObsHook(Hook):\n",
        "  def __init__(self, saveRate : int):\n",
        "    self.saveRate = saveRate\n",
        "    self.current = 0\n",
        "    self.saves = []\n",
        "    self.agent = None\n",
        "  \n",
        "  def __call__(self, obs : np.ndarray, agent) -> np.ndarray:\n",
        "      if self.agent is None:\n",
        "        self.agent = agent\n",
        "      self.current += 1\n",
        "      if self.current >= self.saveRate:\n",
        "        self.current = 0\n",
        "        self.saves.append(obs)\n",
        "      return obs\n",
        "\n",
        "  def end(self):\n",
        "    plotable = list(map(lambda obs : obs_to_img(obs[0]), self.saves))\n",
        "    self.plotable = np.array(plotable)\n",
        "    slider_of_imgs(self.plotable)"
      ],
      "metadata": {
        "id": "HqCqa1vl6pSA"
      },
      "execution_count": 77,
      "outputs": []
    },
    {
      "cell_type": "code",
      "source": [
        "hook = ObsHook(1)\n",
        "run_env(\"test experiment\", \"model_data/coinrun.pth\", 0xc0ffee, hook=hook, max_num_timesteps=1000, reset_mode=\"complete\")\n",
        "observations = hook.saves\n",
        "hook.end()"
      ],
      "metadata": {
        "colab": {
          "base_uri": "https://localhost:8080/",
          "height": 299,
          "referenced_widgets": [
            "3979dd082bac45f996a31b080de1790d",
            "c159a93a932741e4b254db060efac637",
            "619da12bdda74f6195b737a77f92e692"
          ]
        },
        "id": "mmQuDty8GLRV",
        "outputId": "bcedc0d5-391b-4423-8188-3a3ad3045aeb"
      },
      "execution_count": 78,
      "outputs": [
        {
          "output_type": "display_data",
          "data": {
            "text/plain": [
              "<PIL.Image.Image image mode=RGB size=250x250 at 0x7FA8D3DDB550>"
            ],
            "image/png": "[encoded data removed]"
          },
          "metadata": {}
        },
        {
          "output_type": "display_data",
          "data": {
            "text/plain": [
              "IntSlider(value=94, max=96)"
            ],
            "application/vnd.jupyter.widget-view+json": {
              "version_major": 2,
              "version_minor": 0,
              "model_id": "3979dd082bac45f996a31b080de1790d"
            }
          },
          "metadata": {
            "application/vnd.jupyter.widget-view+json": {
              "colab": {
                "custom_widget_manager": {
                  "url": "https://ssl.gstatic.com/colaboratory-static/widgets/colab-cdn-widget-manager/b3e629b1971e1542/manager.min.js"
                }
              }
            }
          }
        }
      ]
    },
    {
      "cell_type": "markdown",
      "source": [
        "## Perform patching"
      ],
      "metadata": {
        "id": "CTvFKumRanjP"
      }
    },
    {
      "cell_type": "code",
      "source": [
        "img = observations[0][0]\n",
        "patch = get_patch(img, (20,20), (30,30))\n",
        "plot_img(obs_to_img(patch))"
      ],
      "metadata": {
        "colab": {
          "base_uri": "https://localhost:8080/",
          "height": 267
        },
        "id": "jvzDzQ8GKa-P",
        "outputId": "2c2f3702-5865-4c67-fc75-428b7541d935"
      },
      "execution_count": 92,
      "outputs": [
        {
          "output_type": "display_data",
          "data": {
            "text/plain": [
              "<PIL.Image.Image image mode=RGB size=250x250 at 0x7FA80E05E520>"
            ],
            "image/png": "[encoded data removed]"
          },
          "metadata": {}
        }
      ]
    }
  ],
  "metadata": {
    "accelerator": "GPU",
    "colab": {
      "provenance": [],
      "collapsed_sections": [
        "Mu2ierH4knuR",
        "OkbHXJekkuRc",
        "C4D2bnDGlNP9",
        "m9h3p95Tzk7g",
        "LLRUM_3Xq8hg"
      ],
      "include_colab_link": true
    },
    "gpuClass": "standard",
    "kernelspec": {
      "display_name": "Python 3",
      "name": "python3"
    },
    "language_info": {
      "name": "python"
    },
    "widgets": {
      "application/vnd.jupyter.widget-state+json": {
        "3979dd082bac45f996a31b080de1790d": {
          "model_module": "@jupyter-widgets/controls",
          "model_name": "IntSliderModel",
          "model_module_version": "1.5.0",
          "state": {
            "_dom_classes": [],
            "_model_module": "@jupyter-widgets/controls",
            "_model_module_version": "1.5.0",
            "_model_name": "IntSliderModel",
            "_view_count": null,
            "_view_module": "@jupyter-widgets/controls",
            "_view_module_version": "1.5.0",
            "_view_name": "IntSliderView",
            "continuous_update": true,
            "description": "",
            "description_tooltip": null,
            "disabled": false,
            "layout": "IPY_MODEL_c159a93a932741e4b254db060efac637",
            "max": 96,
            "min": 0,
            "orientation": "horizontal",
            "readout": true,
            "readout_format": "d",
            "step": 1,
            "style": "IPY_MODEL_619da12bdda74f6195b737a77f92e692",
            "value": 94
          }
        },
        "c159a93a932741e4b254db060efac637": {
          "model_module": "@jupyter-widgets/base",
          "model_name": "LayoutModel",
          "model_module_version": "1.2.0",
          "state": {
            "_model_module": "@jupyter-widgets/base",
            "_model_module_version": "1.2.0",
            "_model_name": "LayoutModel",
            "_view_count": null,
            "_view_module": "@jupyter-widgets/base",
            "_view_module_version": "1.2.0",
            "_view_name": "LayoutView",
            "align_content": null,
            "align_items": null,
            "align_self": null,
            "border": null,
            "bottom": null,
            "display": null,
            "flex": null,
            "flex_flow": null,
            "grid_area": null,
            "grid_auto_columns": null,
            "grid_auto_flow": null,
            "grid_auto_rows": null,
            "grid_column": null,
            "grid_gap": null,
            "grid_row": null,
            "grid_template_areas": null,
            "grid_template_columns": null,
            "grid_template_rows": null,
            "height": null,
            "justify_content": null,
            "justify_items": null,
            "left": null,
            "margin": null,
            "max_height": null,
            "max_width": null,
            "min_height": null,
            "min_width": null,
            "object_fit": null,
            "object_position": null,
            "order": null,
            "overflow": null,
            "overflow_x": null,
            "overflow_y": null,
            "padding": null,
            "right": null,
            "top": null,
            "visibility": null,
            "width": null
          }
        },
        "619da12bdda74f6195b737a77f92e692": {
          "model_module": "@jupyter-widgets/controls",
          "model_name": "SliderStyleModel",
          "model_module_version": "1.5.0",
          "state": {
            "_model_module": "@jupyter-widgets/controls",
            "_model_module_version": "1.5.0",
            "_model_name": "SliderStyleModel",
            "_view_count": null,
            "_view_module": "@jupyter-widgets/base",
            "_view_module_version": "1.2.0",
            "_view_name": "StyleView",
            "description_width": "",
            "handle_color": null
          }
        }
      }
    }
  },
  "nbformat": 4,
  "nbformat_minor": 0
}
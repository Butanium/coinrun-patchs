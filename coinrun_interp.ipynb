{
  "nbformat": 4,
  "nbformat_minor": 0,
  "metadata": {
    "colab": {
      "provenance": [],
      "include_colab_link": true
    },
    "kernelspec": {
      "name": "python3",
      "display_name": "Python 3"
    },
    "language_info": {
      "name": "python"
    },
    "accelerator": "GPU",
    "gpuClass": "standard"
  },
  "cells": [
    {
      "cell_type": "markdown",
      "metadata": {
        "id": "view-in-github",
        "colab_type": "text"
      },
      "source": [
        "<a href=\"https://colab.research.google.com/github/Butanium/coinrun-patchs/blob/main/coinrun_interp.ipynb\" target=\"_parent\"><img src=\"https://colab.research.google.com/assets/colab-badge.svg\" alt=\"Open In Colab\"/></a>"
      ]
    },
    {
      "cell_type": "markdown",
      "source": [
        "# Setting up the environment\n",
        "You just have to run this when you connect to a new environment"
      ],
      "metadata": {
        "id": "Mu2ierH4knuR"
      }
    },
    {
      "cell_type": "code",
      "source": [
        "# Installing package to run coinrun (fix segfaults https://github.com/googlecolab/colabtools/issues/106)\n",
        "import os\n",
        "del os.environ['LD_PRELOAD']\n",
        "%%capture\n",
        "!apt-get remove libtcmalloc*\n",
        "!apt-get update\n",
        "!apt-get install mpich build-essential qt5-default pkg-config"
      ],
      "metadata": {
        "id": "5MBy307qnr7e"
      },
      "execution_count": null,
      "outputs": []
    },
    {
      "cell_type": "code",
      "execution_count": 2,
      "metadata": {
        "id": "UZg8MpgzNRkh"
      },
      "outputs": [],
      "source": [
        "# Download modified coinrun and model \n",
        "%%capture\n",
        "!git clone --recursive https://github.com/jbkjr/objective-robustness-failures\n",
        "%cd objective-robustness-failures/train-procgen-pytorch/ \n",
        "!mkdir model_data\n",
        "!wget https://github.com/Butanium/coinrun-patchs/blob/main/data/coinrun.pth?raw=true -O model_data/coinrun.pth"
      ]
    },
    {
      "cell_type": "code",
      "source": [
        "%%capture\n",
        "!pip install gym3\n",
        "%cd ../procgenAISC\n",
        "!python setup.py install\n",
        "%cd procgen\n",
        "import os, sys\n",
        "sys.path.append(os.getcwd())\n",
        "%cd ../../train-procgen-pytorch"
      ],
      "metadata": {
        "id": "bwRhAzGza8eF"
      },
      "execution_count": 3,
      "outputs": []
    },
    {
      "cell_type": "markdown",
      "source": [
        "# ⚠️ Restart the environment (CTRL + M .) in order to have your path updated\n",
        "After that you can run the cell below"
      ],
      "metadata": {
        "id": "OkbHXJekkuRc"
      }
    },
    {
      "cell_type": "code",
      "source": [
        "%cd objective-robustness-failures/train-procgen-pytorch/ "
      ],
      "metadata": {
        "id": "dyE5wd4wd7Nn",
        "colab": {
          "base_uri": "https://localhost:8080/"
        },
        "outputId": "404f05d8-1a32-4d2a-a8d3-eb9b7a36ed0b"
      },
      "execution_count": 1,
      "outputs": [
        {
          "output_type": "stream",
          "name": "stdout",
          "text": [
            "/content/objective-robustness-failures/train-procgen-pytorch\n"
          ]
        }
      ]
    },
    {
      "cell_type": "markdown",
      "source": [
        "# Sanity check\n",
        "You should be able to import the procgen module"
      ],
      "metadata": {
        "id": "C4D2bnDGlNP9"
      }
    },
    {
      "cell_type": "code",
      "source": [
        "import procgen"
      ],
      "metadata": {
        "id": "WVh6U0Zjc18d"
      },
      "execution_count": 2,
      "outputs": []
    },
    {
      "cell_type": "markdown",
      "source": [
        "# Main code"
      ],
      "metadata": {
        "id": "9F6ZUBqulW82"
      }
    },
    {
      "cell_type": "code",
      "source": [
        "import torch\n",
        "device = torch.device(\"cuda\" if torch.cuda.is_available() else \"cpu\")"
      ],
      "metadata": {
        "id": "MR6EYvvWPihZ"
      },
      "execution_count": 7,
      "outputs": []
    },
    {
      "cell_type": "code",
      "source": [
        "# Load the models\n",
        "data = torch.load('model_data/coinrun.pth', map_location=device)\n",
        "print(data.keys())"
      ],
      "metadata": {
        "id": "WNff1LyAPmna",
        "colab": {
          "base_uri": "https://localhost:8080/"
        },
        "outputId": "edc4d71d-7529-4001-c2b8-1e5871ae1eb3"
      },
      "execution_count": 8,
      "outputs": [
        {
          "output_type": "stream",
          "name": "stdout",
          "text": [
            "dict_keys(['model_state_dict', 'optimizer_state_dict'])\n"
          ]
        }
      ]
    },
    {
      "cell_type": "code",
      "source": [
        "!python test.py --exp_name coinrun_test --env_name coinrun --distribution_mode hard --param_name hard-500 --model_file model_data/coinrun.pth"
      ],
      "metadata": {
        "colab": {
          "base_uri": "https://localhost:8080/"
        },
        "id": "sz1sIJthQiXU",
        "outputId": "fefedc92-8133-4412-ceb1-29c80b0802a1"
      },
      "execution_count": 6,
      "outputs": [
        {
          "output_type": "stream",
          "name": "stdout",
          "text": [
            "ERROR: ld.so: object '/usr/lib/x86_64-linux-gnu/libtcmalloc.so.4' from LD_PRELOAD cannot be preloaded (cannot open shared object file): ignored.\n",
            "ERROR: ld.so: object '/usr/lib/x86_64-linux-gnu/libtcmalloc.so.4' from LD_PRELOAD cannot be preloaded (cannot open shared object file): ignored.\n",
            "ERROR: ld.so: object '/usr/lib/x86_64-linux-gnu/libtcmalloc.so.4' from LD_PRELOAD cannot be preloaded (cannot open shared object file): ignored.\n",
            "ERROR: ld.so: object '/usr/lib/x86_64-linux-gnu/libtcmalloc.so.4' from LD_PRELOAD cannot be preloaded (cannot open shared object file): ignored.\n",
            "ERROR: ld.so: object '/usr/lib/x86_64-linux-gnu/libtcmalloc.so.4' from LD_PRELOAD cannot be preloaded (cannot open shared object file): ignored.\n",
            "ERROR: ld.so: object '/usr/lib/x86_64-linux-gnu/libtcmalloc.so.4' from LD_PRELOAD cannot be preloaded (cannot open shared object file): ignored.\n",
            "[LOADING HYPERPARAMETERS...]\n",
            "algo : ppo\n",
            "n_envs : 256\n",
            "n_steps : 256\n",
            "epoch : 3\n",
            "mini_batch_per_epoch : 8\n",
            "mini_batch_size : 8192\n",
            "gamma : 0.999\n",
            "lmbda : 0.95\n",
            "learning_rate : 0.0005\n",
            "grad_clip_norm : 0.5\n",
            "eps_clip : 0.2\n",
            "value_coef : 0.5\n",
            "entropy_coef : 0.01\n",
            "normalize_adv : True\n",
            "normalize_rew : True\n",
            "use_gae : True\n",
            "architecture : impala\n",
            "recurrent : False\n",
            "INITIALIZAING ENVIRONMENTS...\n",
            "INITIALIZAING LOGGER...\n",
            "Logging to logs/procgen/coinrun/coinrun_test/RENDER_seed_5887_01-02-2023_15-46-01\n",
            "/usr/local/lib/python3.8/dist-packages/flatbuffers/compat.py:19: DeprecationWarning: the imp module is deprecated in favour of importlib; see the module's documentation for alternative uses\n",
            "  import imp\n",
            "INTIALIZING MODEL...\n",
            "INITIALIZAING STORAGE...\n",
            "INTIALIZING AGENT...\n",
            "=======================\n",
            "Results:\n",
            "{\n",
            "    \"total_done\": 134,\n",
            "    \"n_reached_end\": 48,\n",
            "    \"n_capability_failures\": 7,\n",
            "    \"n_successes\": 127,\n",
            "    \"reach_end_frequency\": 0.3582089552238806,\n",
            "    \"capability_fail_frequency\": 0.05223880597014925\n",
            "}\n",
            "=======================\n"
          ]
        }
      ]
    }
  ]
}
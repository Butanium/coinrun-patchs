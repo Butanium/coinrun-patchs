{
  "nbformat": 4,
  "nbformat_minor": 0,
  "metadata": {
    "colab": {
      "provenance": [],
      "authorship_tag": "ABX9TyN+t0uOP0Snz62FDq9lnWAh",
      "include_colab_link": true
    },
    "kernelspec": {
      "name": "python3",
      "display_name": "Python 3"
    },
    "language_info": {
      "name": "python"
    },
    "accelerator": "GPU",
    "gpuClass": "standard"
  },
  "cells": [
    {
      "cell_type": "markdown",
      "metadata": {
        "id": "view-in-github",
        "colab_type": "text"
      },
      "source": [
        "<a href=\"https://colab.research.google.com/github/Butanium/coinrun-patchs/blob/main/coinrun_interp.ipynb\" target=\"_parent\"><img src=\"https://colab.research.google.com/assets/colab-badge.svg\" alt=\"Open In Colab\"/></a>"
      ]
    },
    {
      "cell_type": "code",
      "execution_count": null,
      "metadata": {
        "id": "UZg8MpgzNRkh"
      },
      "outputs": [],
      "source": [
        "%%capture\n",
        "!mkdir data\n",
        "!wget https://github.com/Butanium/coinrun-patchs/blob/main/data/coinrun.pth?raw=true -O data/coinrun.pth"
      ]
    },
    {
      "cell_type": "code",
      "source": [
        "import torch\n",
        "device = torch.device(\"cuda\" if torch.cuda.is_available() else \"cpu\")"
      ],
      "metadata": {
        "id": "MR6EYvvWPihZ"
      },
      "execution_count": 3,
      "outputs": []
    },
    {
      "cell_type": "code",
      "source": [
        "# Load the models\n",
        "data = torch.load('data/coinrun.pth', map_location=device)"
      ],
      "metadata": {
        "id": "WNff1LyAPmna"
      },
      "execution_count": 4,
      "outputs": []
    },
    {
      "cell_type": "code",
      "source": [
        "print(data.keys(), \"\\n\", data['model_state_dict'].keys())"
      ],
      "metadata": {
        "colab": {
          "base_uri": "https://localhost:8080/"
        },
        "id": "sz1sIJthQiXU",
        "outputId": "74867712-1f42-4564-d3f6-024cae98e5b9"
      },
      "execution_count": 9,
      "outputs": [
        {
          "output_type": "stream",
          "name": "stdout",
          "text": [
            "dict_keys(['model_state_dict', 'optimizer_state_dict']) \n",
            " odict_keys(['embedder.block1.conv.weight', 'embedder.block1.conv.bias', 'embedder.block1.res1.conv1.weight', 'embedder.block1.res1.conv1.bias', 'embedder.block1.res1.conv2.weight', 'embedder.block1.res1.conv2.bias', 'embedder.block1.res2.conv1.weight', 'embedder.block1.res2.conv1.bias', 'embedder.block1.res2.conv2.weight', 'embedder.block1.res2.conv2.bias', 'embedder.block2.conv.weight', 'embedder.block2.conv.bias', 'embedder.block2.res1.conv1.weight', 'embedder.block2.res1.conv1.bias', 'embedder.block2.res1.conv2.weight', 'embedder.block2.res1.conv2.bias', 'embedder.block2.res2.conv1.weight', 'embedder.block2.res2.conv1.bias', 'embedder.block2.res2.conv2.weight', 'embedder.block2.res2.conv2.bias', 'embedder.block3.conv.weight', 'embedder.block3.conv.bias', 'embedder.block3.res1.conv1.weight', 'embedder.block3.res1.conv1.bias', 'embedder.block3.res1.conv2.weight', 'embedder.block3.res1.conv2.bias', 'embedder.block3.res2.conv1.weight', 'embedder.block3.res2.conv1.bias', 'embedder.block3.res2.conv2.weight', 'embedder.block3.res2.conv2.bias', 'embedder.fc.weight', 'embedder.fc.bias', 'fc_policy.weight', 'fc_policy.bias', 'fc_value.weight', 'fc_value.bias'])\n"
          ]
        }
      ]
    }
  ]
}